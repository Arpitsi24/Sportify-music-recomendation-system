{
  "nbformat": 4,
  "nbformat_minor": 0,
  "metadata": {
    "colab": {
      "provenance": []
    },
    "kernelspec": {
      "name": "python3",
      "display_name": "Python 3"
    },
    "language_info": {
      "name": "python"
    }
  },
  "cells": [
    {
      "cell_type": "code",
      "execution_count": null,
      "metadata": {
        "id": "JO806IVCyupt"
      },
      "outputs": [],
      "source": [
        "!pip install spotipy\n",
        "import spotipy\n",
        "from spotipy.oauth2 import SpotifyClientCredentials\n",
        "auth_manager = SpotifyClientCredentials(client_id = '35fcfe2f9992469bb5159f1ed42fbf38',client_secret = '7eea4febf1b64bb08947fb564bff6cf8')\n",
        "sp = spotipy.Spotify(auth_manager=auth_manager)"
      ]
    },
    {
      "cell_type": "code",
      "source": [
        "import pandas as pd\n",
        "from pprint import pprint\n",
        "import json\n",
        "from tqdm import tqdm\n",
        "import re\n"
      ],
      "metadata": {
        "id": "DDTzbD8auvm6"
      },
      "execution_count": null,
      "outputs": []
    },
    {
      "cell_type": "code",
      "source": [
        "# Import json\n",
        "data_path = \"/content/data/First_1000.json\"\n",
        "raw_json = json.loads(open(data_path).read())\n",
        "\n",
        "# Transform Data\n",
        "playlists = raw_json[\"playlists\"]\n",
        "df = pd.json_normalize(playlists, record_path='tracks', meta=['name','pid'])\n",
        "\n",
        "# Output\n",
        "df.to_csv(\"/content/data/raw_data.csv\")"
      ],
      "metadata": {
        "id": "FZvnj0_qyH-V"
      },
      "execution_count": null,
      "outputs": []
    },
    {
      "cell_type": "code",
      "source": [
        "dataPath = '/content/data/raw_data.csv'\n",
        "df = pd.read_csv(dataPath)\n",
        "df.head()"
      ],
      "metadata": {
        "id": "w7lasTgBu6g8"
      },
      "execution_count": null,
      "outputs": []
    },
    {
      "cell_type": "code",
      "source": [
        "df[\"track_uri\"] = df[\"track_uri\"].apply(lambda x: re.findall(r'\\w+$', x)[0])\n",
        "df[\"track_uri\"]"
      ],
      "metadata": {
        "id": "xCXUR6T10sgH"
      },
      "execution_count": null,
      "outputs": []
    },
    {
      "cell_type": "code",
      "source": [
        "def ari_to_features(ari):\n",
        "    #Audio features\n",
        "    features = sp.audio_features(ari)[0]\n",
        "    \n",
        "    #Artist of the track, for genres and popularity\n",
        "    artist = sp.track(ari)[\"artists\"][0][\"id\"]\n",
        "    artist_pop = sp.artist(artist)[\"popularity\"]\n",
        "    artist_genres = sp.artist(artist)[\"genres\"]\n",
        "    \n",
        "    #Track popularity\n",
        "    track_pop = sp.track(ari)[\"popularity\"]\n",
        "    \n",
        "    #Add in extra features\n",
        "    features[\"artist_pop\"] = artist_pop\n",
        "    if artist_genres:\n",
        "        features[\"genres\"] = \" \".join([re.sub(' ','_',i) for i in artist_genres])\n",
        "    else:\n",
        "        features[\"genres\"] = \"unknown\"\n",
        "    features[\"track_pop\"] = track_pop\n",
        "    \n",
        "    return features\n",
        "\n",
        "ari_to_features(df[\"track_uri\"][0])"
      ],
      "metadata": {
        "colab": {
          "base_uri": "https://localhost:8080/"
        },
        "id": "B2MA8rqwt5Is",
        "outputId": "b760bc79-4d66-4223-c8e0-237976ac49f6"
      },
      "execution_count": null,
      "outputs": [
        {
          "output_type": "execute_result",
          "data": {
            "text/plain": [
              "{'danceability': 0.904,\n",
              " 'energy': 0.813,\n",
              " 'key': 4,\n",
              " 'loudness': -7.105,\n",
              " 'mode': 0,\n",
              " 'speechiness': 0.121,\n",
              " 'acousticness': 0.0311,\n",
              " 'instrumentalness': 0.00697,\n",
              " 'liveness': 0.0471,\n",
              " 'valence': 0.81,\n",
              " 'tempo': 125.461,\n",
              " 'type': 'audio_features',\n",
              " 'id': '0UaMYEvWZi0ZqiDOoHU3YI',\n",
              " 'uri': 'spotify:track:0UaMYEvWZi0ZqiDOoHU3YI',\n",
              " 'track_href': 'https://api.spotify.com/v1/tracks/0UaMYEvWZi0ZqiDOoHU3YI',\n",
              " 'analysis_url': 'https://api.spotify.com/v1/audio-analysis/0UaMYEvWZi0ZqiDOoHU3YI',\n",
              " 'duration_ms': 226864,\n",
              " 'time_signature': 4,\n",
              " 'artist_pop': 69,\n",
              " 'genres': 'dance_pop hip_hop hip_pop pop_rap r&b rap urban_contemporary virginia_hip_hop',\n",
              " 'track_pop': 66}"
            ]
          },
          "metadata": {},
          "execution_count": 8
        }
      ]
    },
    {
      "cell_type": "code",
      "source": [
        "first_half = df[\"track_uri\"].unique()[:10000]\n",
        "second_half = df[\"track_uri\"].unique()[10000:20000]\n",
        "third_half = df[\"track_uri\"].unique()[20000:]\n",
        "dataLIST = [first_half,second_half,third_half]"
      ],
      "metadata": {
        "id": "sLjbA1Hn0upL"
      },
      "execution_count": null,
      "outputs": []
    },
    {
      "cell_type": "code",
      "source": [
        "featureLIST = []\n",
        "\n",
        "for i in tqdm([uri for uri in dataLIST[0]]):\n",
        "    try:\n",
        "        featureLIST.append(ari_to_features(i))\n",
        "    except:\n",
        "        continue"
      ],
      "metadata": {
        "id": "SscOBLZP1Glq"
      },
      "execution_count": null,
      "outputs": []
    },
    {
      "cell_type": "code",
      "source": [
        "for i in tqdm([uri for uri in dataLIST[1]]):\n",
        "    try:\n",
        "        featureLIST.append(ari_to_features(i))\n",
        "    except:\n",
        "        continue"
      ],
      "metadata": {
        "id": "k4e8FdbG1LD6"
      },
      "execution_count": null,
      "outputs": []
    },
    {
      "cell_type": "code",
      "source": [
        "for i in tqdm([uri for uri in dataLIST[2]]):\n",
        "    try:\n",
        "        featureLIST.append(ari_to_features(i))\n",
        "    except:\n",
        "        continue"
      ],
      "metadata": {
        "id": "vQlTvYZp1Oou"
      },
      "execution_count": null,
      "outputs": []
    },
    {
      "cell_type": "code",
      "source": [
        "testDF = df\n",
        "featureDF = pd.DataFrame(featureLIST)\n",
        "featureDF"
      ],
      "metadata": {
        "id": "F74Y5flt1fO4"
      },
      "execution_count": null,
      "outputs": []
    },
    {
      "cell_type": "code",
      "source": [
        "new_df = pd.merge(testDF,featureDF, left_on = \"track_uri\", right_on= \"id\")\n",
        "new_df.to_csv('/content/data/processed_data.csv')"
      ],
      "metadata": {
        "id": "9wKI1XKv2RRQ"
      },
      "execution_count": null,
      "outputs": []
    }
  ]
}